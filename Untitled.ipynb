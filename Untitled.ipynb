{
 "cells": [
  {
   "cell_type": "code",
   "execution_count": 1,
   "metadata": {
    "collapsed": true
   },
   "outputs": [],
   "source": [
    "# Standard Imports.\n",
    "import numpy as np\n",
    "import pandas as pd\n",
    "\n",
    "import csv\n",
    "import json"
   ]
  },
  {
   "cell_type": "code",
   "execution_count": 2,
   "metadata": {
    "collapsed": true
   },
   "outputs": [],
   "source": [
    "src_df = []\n",
    "# Reading input file.\n",
    "with open('C:\\\\Users\\\\sh242807\\\\workarea\\\\appconfig-data-migration\\\\round2\\\\app-migration_2018-09-27 09_43_01.782.csv') as f:\n",
    "    lines = csv.reader(f, delimiter=\",\", quotechar='\"')\n",
    "    for line in lines:\n",
    "        src_df.append(line)\n"
   ]
  },
  {
   "cell_type": "code",
   "execution_count": 9,
   "metadata": {
    "collapsed": true
   },
   "outputs": [],
   "source": [
    "key_list = set()\n",
    "for i in range(1, 1675):\n",
    "    urls = json.loads(src_df[i][8])\n",
    "    for j in urls:\n",
    "        key_list.add(j[\"key\"])\n",
    "        "
   ]
  },
  {
   "cell_type": "code",
   "execution_count": 11,
   "metadata": {
    "collapsed": true
   },
   "outputs": [],
   "source": [
    "df = pd.read_csv('C:\\\\Users\\\\sh242807\\\\workarea\\\\appconfig-data-migration\\\\round2\\\\app-migration_2018-09-27 09_43_01.782.csv')"
   ]
  },
  {
   "cell_type": "code",
   "execution_count": 13,
   "metadata": {
    "collapsed": true
   },
   "outputs": [],
   "source": [
    "wrk = df.iloc[:, [0,5,6,7]].copy()"
   ]
  },
  {
   "cell_type": "code",
   "execution_count": null,
   "metadata": {
    "collapsed": true
   },
   "outputs": [],
   "source": [
    "for i in list(key_list):\n",
    "    wrk."
   ]
  },
  {
   "cell_type": "code",
   "execution_count": 14,
   "metadata": {},
   "outputs": [
    {
     "data": {
      "text/html": [
       "<div>\n",
       "<style scoped>\n",
       "    .dataframe tbody tr th:only-of-type {\n",
       "        vertical-align: middle;\n",
       "    }\n",
       "\n",
       "    .dataframe tbody tr th {\n",
       "        vertical-align: top;\n",
       "    }\n",
       "\n",
       "    .dataframe thead th {\n",
       "        text-align: right;\n",
       "    }\n",
       "</style>\n",
       "<table border=\"1\" class=\"dataframe\">\n",
       "  <thead>\n",
       "    <tr style=\"text-align: right;\">\n",
       "      <th></th>\n",
       "      <th>application</th>\n",
       "      <th>environment</th>\n",
       "      <th>locale</th>\n",
       "      <th>tagid</th>\n",
       "    </tr>\n",
       "  </thead>\n",
       "  <tbody>\n",
       "    <tr>\n",
       "      <th>0</th>\n",
       "      <td>11032</td>\n",
       "      <td>prod</td>\n",
       "      <td>en-GB</td>\n",
       "      <td>apps++env+prod</td>\n",
       "    </tr>\n",
       "    <tr>\n",
       "      <th>1</th>\n",
       "      <td>11032</td>\n",
       "      <td>prod</td>\n",
       "      <td>ar-RW</td>\n",
       "      <td>apps++env+prod</td>\n",
       "    </tr>\n",
       "    <tr>\n",
       "      <th>2</th>\n",
       "      <td>11032</td>\n",
       "      <td>prod</td>\n",
       "      <td>en-ID</td>\n",
       "      <td>apps++env+prod</td>\n",
       "    </tr>\n",
       "    <tr>\n",
       "      <th>3</th>\n",
       "      <td>11032</td>\n",
       "      <td>prod</td>\n",
       "      <td>bg-BG</td>\n",
       "      <td>apps++env+prod</td>\n",
       "    </tr>\n",
       "    <tr>\n",
       "      <th>4</th>\n",
       "      <td>11032</td>\n",
       "      <td>prod</td>\n",
       "      <td>zh-CN</td>\n",
       "      <td>apps++env+prod</td>\n",
       "    </tr>\n",
       "  </tbody>\n",
       "</table>\n",
       "</div>"
      ],
      "text/plain": [
       "   application environment locale           tagid\n",
       "0        11032        prod  en-GB  apps++env+prod\n",
       "1        11032        prod  ar-RW  apps++env+prod\n",
       "2        11032        prod  en-ID  apps++env+prod\n",
       "3        11032        prod  bg-BG  apps++env+prod\n",
       "4        11032        prod  zh-CN  apps++env+prod"
      ]
     },
     "execution_count": 14,
     "metadata": {},
     "output_type": "execute_result"
    }
   ],
   "source": [
    "wrk.head()"
   ]
  }
 ],
 "metadata": {
  "kernelspec": {
   "display_name": "Python 3",
   "language": "python",
   "name": "python3"
  },
  "language_info": {
   "codemirror_mode": {
    "name": "ipython",
    "version": 3
   },
   "file_extension": ".py",
   "mimetype": "text/x-python",
   "name": "python",
   "nbconvert_exporter": "python",
   "pygments_lexer": "ipython3",
   "version": "3.6.6"
  }
 },
 "nbformat": 4,
 "nbformat_minor": 2
}
